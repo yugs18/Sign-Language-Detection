{
 "cells": [
  {
   "cell_type": "code",
   "execution_count": null,
   "metadata": {},
   "outputs": [],
   "source": [
    "import os\n",
    "import cv2\n",
    "import json\n",
    "from tqdm import tqdm\n",
    "import mediapipe as mp"
   ]
  },
  {
   "cell_type": "code",
   "execution_count": null,
   "metadata": {},
   "outputs": [],
   "source": [
    "# Mediapipe Pose setup for body and hands\n",
    "mp_pose = mp.solutions.pose\n",
    "pose = mp_pose.Pose(static_image_mode=True, min_detection_confidence=0.5, min_tracking_confidence=0.5)\n",
    "\n",
    "mp_hands = mp.solutions.hands\n",
    "hands = mp_hands.Hands(static_image_mode=True, max_num_hands=2, min_detection_confidence=0.5)\n"
   ]
  },
  {
   "cell_type": "code",
   "execution_count": null,
   "metadata": {},
   "outputs": [],
   "source": [
    "# Initialize output paths\n",
    "IMAGE_PATH = '../dataset/augmented_images'  # Path to your dataset\n",
    "OUTPUT_PATH = '../dataset/keypoints'  # Path to save JSON files"
   ]
  },
  {
   "cell_type": "code",
   "execution_count": null,
   "metadata": {},
   "outputs": [],
   "source": [
    "def create_dir(directory_path):\n",
    "    \"\"\"Creates a directory if it does not already exist.\"\"\"\n",
    "    os.makedirs(directory_path, exist_ok=True)"
   ]
  },
  {
   "cell_type": "code",
   "execution_count": null,
   "metadata": {},
   "outputs": [],
   "source": [
    "def validate_json(output_path, label):\n",
    "    \"\"\"\n",
    "    Validates the JSON file for the given label and prints the total number of images.\n",
    "    \n",
    "    Args:\n",
    "        output_path (str): Path to the folder containing JSON files.\n",
    "        label (str): Label of the folder (e.g., 'A', '1').\n",
    "    \"\"\"\n",
    "    json_path = os.path.join(output_path, f\"{label}.json\")\n",
    "    \n",
    "    # Check if the file exists\n",
    "    if os.path.exists(json_path):\n",
    "        with open(json_path, 'r') as json_file:\n",
    "            data = json.load(json_file)\n",
    "            total_images = len(data)\n",
    "            print(f\"Total images written for label {label}: {total_images}\")\n",
    "    else:\n",
    "        print(f\"JSON file not found for label {label}: {json_path}\")"
   ]
  },
  {
   "cell_type": "code",
   "execution_count": null,
   "metadata": {},
   "outputs": [],
   "source": [
    "def extract_body_keypoints(image_path):\n",
    "    \"\"\"\n",
    "    Extracts keypoints for the body from the image.\n",
    "    \n",
    "    Args:\n",
    "        image_path (str): Path to the image.\n",
    "    \n",
    "    Returns:\n",
    "        list: A list of keypoints (33 keypoints for full body pose).\n",
    "    \"\"\"\n",
    "    image = cv2.imread(image_path)\n",
    "    image_rgb = cv2.cvtColor(image, cv2.COLOR_BGR2RGB)\n",
    "    results = pose.process(image_rgb)\n",
    "\n",
    "    keypoints_data = []\n",
    "\n",
    "    if results.pose_landmarks:\n",
    "        for landmark in results.pose_landmarks.landmark:\n",
    "            # Append each x, y, z for each keypoint (normalized coordinates)\n",
    "            keypoints_data.append({\"x\": landmark.x, \"y\": landmark.y, \"z\": landmark.z})\n",
    "\n",
    "    # Ensure we have 33 keypoints (if any keypoint is missing, it is padded with zeros)\n",
    "    if len(keypoints_data) < 33:\n",
    "        keypoints_data.extend([{\"x\": 0.0, \"y\": 0.0, \"z\": 0.0}] * (33 - len(keypoints_data)))  # Pad with zeros if less than 33 keypoints\n",
    "\n",
    "    return keypoints_data"
   ]
  },
  {
   "cell_type": "code",
   "execution_count": null,
   "metadata": {},
   "outputs": [],
   "source": [
    "def extract_hand_keypoints(image_path):\n",
    "    \"\"\"\n",
    "    Extracts keypoints for the hands from the image.\n",
    "    \n",
    "    Args:\n",
    "        image_path (str): Path to the image.\n",
    "    \n",
    "    Returns:\n",
    "        list: A list of keypoints (21 keypoints per hand, up to two hands).\n",
    "    \"\"\"\n",
    "    image = cv2.imread(image_path)\n",
    "    image_rgb = cv2.cvtColor(image, cv2.COLOR_BGR2RGB)\n",
    "    results = hands.process(image_rgb)\n",
    "\n",
    "    keypoints_data = []\n",
    "\n",
    "    if results.multi_hand_landmarks:\n",
    "        for hand_landmarks in results.multi_hand_landmarks:\n",
    "            for lm in hand_landmarks.landmark:\n",
    "                keypoints_data.append({\"x\": lm.x, \"y\": lm.y, \"z\": lm.z})  # Append each x, y, z for each keypoint\n",
    "\n",
    "    # Ensure we have 42 keypoints (21 per hand, up to two hands detected)\n",
    "    if len(keypoints_data) < 42:\n",
    "        keypoints_data.extend([{\"x\": 0.0, \"y\": 0.0, \"z\": 0.0}] * (42 - len(keypoints_data)))  # Pad with zeros if less than 42 keypoints\n",
    "\n",
    "    return keypoints_data"
   ]
  },
  {
   "cell_type": "code",
   "execution_count": null,
   "metadata": {},
   "outputs": [],
   "source": [
    "def process_images_with_validation(base_path, output_path):\n",
    "    \"\"\"\n",
    "    Processes images to extract body and hand keypoints, then saves them as JSON files.\n",
    "    \n",
    "    Args:\n",
    "        base_path (str): Path to the base folder containing images.\n",
    "        output_path (str): Path to the folder to save JSON files.\n",
    "    \"\"\"\n",
    "    create_dir(output_path)\n",
    "\n",
    "    # Label map for directories (you can customize this if needed)\n",
    "    labels = list(\"123456789ABCDEFGHIJKLMNOPQRSTUVWXYZ\")\n",
    "\n",
    "    # Initialize a dictionary to hold data for each label\n",
    "    label_data = {label: [] for label in labels}\n",
    "\n",
    "    for label in tqdm(labels, desc=\"Processing labels\"):\n",
    "        input_folder = os.path.join(base_path, label)\n",
    "\n",
    "        if not os.path.exists(input_folder):\n",
    "            print(f\"Folder not found: {input_folder}\")\n",
    "            continue\n",
    "\n",
    "        for filename in os.listdir(input_folder):\n",
    "            if filename.lower().endswith(('.jpg', '.jpeg', '.png')):\n",
    "                image_path = os.path.join(input_folder, filename)\n",
    "\n",
    "                # Extract keypoints for both body and hands\n",
    "                body_keypoints = extract_body_keypoints(image_path)\n",
    "                hand_keypoints = extract_hand_keypoints(image_path)\n",
    "\n",
    "                # Create the formatted dictionary for the image\n",
    "                image_data = {\n",
    "                    \"image_name\": filename,\n",
    "                    \"keypoints\": {\n",
    "                        \"body\": body_keypoints,  # Store body keypoints\n",
    "                        \"hands\": hand_keypoints   # Store hand keypoints (empty if no hands detected)\n",
    "                    }\n",
    "                }\n",
    "\n",
    "                # Append the data to the label's list\n",
    "                label_data[label].append(image_data)\n",
    "\n",
    "        # Save the accumulated data for the label to a JSON file\n",
    "        json_path = os.path.join(output_path, f\"{label}.json\")\n",
    "        with open(json_path, 'w') as json_file:\n",
    "            json.dump(label_data[label], json_file, indent=4)\n",
    "        \n",
    "        # Validate and print total images written\n",
    "        validate_json(output_path, label)"
   ]
  },
  {
   "cell_type": "code",
   "execution_count": null,
   "metadata": {},
   "outputs": [],
   "source": [
    "if __name__ == \"__main__\":\n",
    "    process_images_with_validation(IMAGE_PATH, OUTPUT_PATH)\n",
    "    print(\"Keypoint extraction completed.\")"
   ]
  }
 ],
 "metadata": {
  "kernelspec": {
   "display_name": "tf",
   "language": "python",
   "name": "python3"
  },
  "language_info": {
   "codemirror_mode": {
    "name": "ipython",
    "version": 3
   },
   "file_extension": ".py",
   "mimetype": "text/x-python",
   "name": "python",
   "nbconvert_exporter": "python",
   "pygments_lexer": "ipython3",
   "version": "3.12.7"
  }
 },
 "nbformat": 4,
 "nbformat_minor": 2
}
