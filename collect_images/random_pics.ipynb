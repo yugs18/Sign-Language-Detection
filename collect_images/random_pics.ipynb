{
 "cells": [
  {
   "cell_type": "code",
   "execution_count": null,
   "metadata": {},
   "outputs": [],
   "source": [
    "# Import required libraries\n",
    "import os\n",
    "import random\n",
    "from PIL import Image\n",
    "import matplotlib.pyplot as plt\n",
    "%matplotlib inline"
   ]
  },
  {
   "cell_type": "code",
   "execution_count": null,
   "metadata": {},
   "outputs": [],
   "source": [
    "# Set the path to your images folder\n",
    "root_dir = \"../dataset/images\""
   ]
  },
  {
   "cell_type": "code",
   "execution_count": null,
   "metadata": {},
   "outputs": [],
   "source": [
    "# Collect all images from all subdirectories\n",
    "image_extensions = ['.jpg', '.jpeg', '.png', '.gif', '.bmp']\n",
    "all_images = []"
   ]
  },
  {
   "cell_type": "code",
   "execution_count": null,
   "metadata": {},
   "outputs": [],
   "source": [
    "# Walk through all directories and subdirectories\n",
    "for root, dirs, files in os.walk(root_dir):\n",
    "    for file in files:\n",
    "        if os.path.splitext(file)[1].lower() in image_extensions:\n",
    "            full_path = os.path.join(root, file)\n",
    "            all_images.append(full_path)"
   ]
  },
  {
   "cell_type": "code",
   "execution_count": null,
   "metadata": {},
   "outputs": [],
   "source": [
    "# Check if there are enough images\n",
    "if len(all_images) < 6:\n",
    "    raise ValueError(f\"Not enough images found. Need at least 5, found {len(all_images)}\")"
   ]
  },
  {
   "cell_type": "code",
   "execution_count": null,
   "metadata": {},
   "outputs": [],
   "source": [
    "# Randomly select 5 images\n",
    "selected_images = random.sample(all_images, 3)"
   ]
  },
  {
   "cell_type": "code",
   "execution_count": null,
   "metadata": {},
   "outputs": [],
   "source": []
  },
  {
   "cell_type": "code",
   "execution_count": null,
   "metadata": {},
   "outputs": [],
   "source": [
    "# Create a figure to display images\n",
    "plt.figure(figsize=(15, 10))  # Increased figure size to accommodate original images\n",
    "\n",
    "# Process and display each image\n",
    "for i, img_path in enumerate(selected_images):\n",
    "    # Open image without resizing\n",
    "    img = Image.open(img_path)\n",
    "    \n",
    "    # Create subplot and display\n",
    "    plt.subplot(2, 3, i+1)  # 2 rows, 3 columns layout (for 5 images)\n",
    "    plt.imshow(img)\n",
    "    plt.axis('off')\n",
    "    # Show filename and original dimensions\n",
    "    plt.title(f\"{os.path.basename(img_path)[:10]}\\n{img.size[0]}x{img.size[1]}\")\n",
    "\n",
    "plt.tight_layout()\n",
    "plt.show()"
   ]
  }
 ],
 "metadata": {
  "kernelspec": {
   "display_name": "tf",
   "language": "python",
   "name": "python3"
  },
  "language_info": {
   "codemirror_mode": {
    "name": "ipython",
    "version": 3
   },
   "file_extension": ".py",
   "mimetype": "text/x-python",
   "name": "python",
   "nbconvert_exporter": "python",
   "pygments_lexer": "ipython3",
   "version": "3.12.7"
  }
 },
 "nbformat": 4,
 "nbformat_minor": 2
}
